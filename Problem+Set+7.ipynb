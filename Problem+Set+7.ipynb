{
 "cells": [
  {
   "cell_type": "markdown",
   "metadata": {},
   "source": [
    "# Problem 1"
   ]
  },
  {
   "cell_type": "code",
   "execution_count": 1,
   "metadata": {
    "collapsed": true
   },
   "outputs": [],
   "source": [
    "import math\n",
    "import numpy as np\n",
    "import kplr\n",
    "import my_transit\n",
    "from scipy import integrate\n",
    "import scipy\n",
    "import matplotlib.pyplot as plt"
   ]
  },
  {
   "cell_type": "code",
   "execution_count": 2,
   "metadata": {
    "collapsed": true
   },
   "outputs": [],
   "source": [
    "# Find the target KOI.\n",
    "client = kplr.API()\n",
    "koi = client.koi(97.01)\n",
    "\n",
    "# Get a list of light curve datasets.\n",
    "lcs = koi.get_light_curves(short_cadence=False)\n",
    "\n",
    "# Open the first dataset and read it\n",
    "f = lcs[0].open()\n",
    "hdu_data = f[1].data\n",
    "time = hdu_data[\"time\"]  # get the time of each observation\n",
    "flux = hdu_data[\"sap_flux\"] # get the flux\n",
    "flux_err = hdu_data[\"sap_flux_err\"] # get the error in the flux\n",
    "f.close()\n",
    "\n",
    "#Extract data in time range 124 < t < 125\n",
    "extracted_data = np.where((time > 124) & (time < 125))\n",
    "time_extracted = time[extracted_data]\n",
    "flux_extracted = flux[extracted_data]\n",
    "flux_err_extracted = flux_err[extracted_data]"
   ]
  },
  {
   "cell_type": "code",
   "execution_count": 3,
   "metadata": {
    "collapsed": true
   },
   "outputs": [],
   "source": [
    "#Function to get the average flux excluding transit\n",
    "\n",
    "def avg_flux_no_transit(flux_data,iterations,max_iterations, mean, std):\n",
    "    flux_avg_prime = mean\n",
    "    flux_std_prime = std\n",
    "    while (iterations < max_iterations):\n",
    "        new_list = []\n",
    "        for f in flux_data:\n",
    "            if (((abs(f-flux_avg_prime))/flux_std_prime) >= 2):\n",
    "                new_list.append(f)\n",
    "        new_array = np.asarray(new_list)\n",
    "        flux_avg_prime = np.mean(new_list)\n",
    "        flux_std_prime = np.std(new_list)\n",
    "        iterations = iterations + 1\n",
    "    return flux_avg_prime  "
   ]
  },
  {
   "cell_type": "code",
   "execution_count": 4,
   "metadata": {},
   "outputs": [
    {
     "name": "stdout",
     "output_type": "stream",
     "text": [
      "104175.0\n"
     ]
    }
   ],
   "source": [
    "#Compute average flux value\n",
    "\n",
    "flux_mean = np.mean(flux_extracted)\n",
    "flux_std = np.std(flux_extracted)\n",
    "\n",
    "flux_avg = avg_flux_no_transit(flux_extracted,0,10,flux_mean,flux_std)\n",
    "print(flux_avg)"
   ]
  },
  {
   "cell_type": "code",
   "execution_count": 5,
   "metadata": {
    "collapsed": true
   },
   "outputs": [],
   "source": [
    "#Function to normalize values in array by mean\n",
    "\n",
    "def normalize(array,avg):\n",
    "    new_list = []\n",
    "    for i in array:\n",
    "        i = i/avg\n",
    "        new_list.append(i)\n",
    "    return new_list"
   ]
  },
  {
   "cell_type": "code",
   "execution_count": 6,
   "metadata": {
    "collapsed": true
   },
   "outputs": [],
   "source": [
    "#Compute normalized values for flux and flux error\n",
    "\n",
    "normalized_flux = normalize(flux_extracted,flux_avg)\n",
    "normalized_flux_err = normalize(flux_err_extracted,flux_avg)"
   ]
  },
  {
   "cell_type": "code",
   "execution_count": 7,
   "metadata": {
    "collapsed": true
   },
   "outputs": [],
   "source": [
    "#Function to integrate to get ratio of obscured to unobscured flux\n",
    "\n",
    "def I(r):\n",
    "    '''A Limb-darkening function'''\n",
    "    mu = (1 - (r**2))**(0.5)\n",
    "    return 1 - (1 - (mu**(0.5)))\n",
    "\n",
    "def func1(r, p, z):\n",
    "    return I(r) * (1 - my_transit.delta(p,r,abs(z))) * 2 * r\n",
    "\n",
    "def func2(r, p, z):\n",
    "    return I(r) * 2 * r"
   ]
  },
  {
   "cell_type": "code",
   "execution_count": 8,
   "metadata": {
    "collapsed": true
   },
   "outputs": [],
   "source": [
    "#Integrate functions above\n",
    "\n",
    "def flux_fit(p,tao,t0,time_extracted):\n",
    "    flux_fit_list = []\n",
    "    for t in time_extracted:\n",
    "        z = (t - t0)/tao\n",
    "        numerator,err = integrate.quad(func1,0,1,args=(p,z))\n",
    "        denominator,err = integrate.quad(func2,0,1,args=(p,z))\n",
    "        flux_ratio = numerator/denominator\n",
    "        flux_fit_list.append(flux_ratio)\n",
    "    return flux_fit_list"
   ]
  },
  {
   "cell_type": "code",
   "execution_count": 9,
   "metadata": {
    "collapsed": true
   },
   "outputs": [],
   "source": [
    "#Calculate the value of chi squared\n",
    "\n",
    "def chi_squared(p,tao,t0,time_extracted,normalized_flux,normalized_flux_err):\n",
    "    chi_squared = 0\n",
    "    flux_fit_list = flux_fit(p,tao,t0,time_extracted)\n",
    "    for i in range(len(normalized_flux)):\n",
    "        new_value = ((normalized_flux[i] - flux_fit_list[i])/normalized_flux_err[i])**2\n",
    "        chi_squared = chi_squared + new_value\n",
    "    return chi_squared"
   ]
  },
  {
   "cell_type": "code",
   "execution_count": 10,
   "metadata": {},
   "outputs": [
    {
     "name": "stdout",
     "output_type": "stream",
     "text": [
      "[1.0, 1.0, 1.0, 1.0, 1.0, 1.0, 1.0, 1.0, 1.0, 1.0, 1.0, 1.0, 1.0, 1.0, 1.0, 1.0, 1.0, 1.0, 1.0, 1.0, 0.9949034157565049, 0.9935721741229445, 0.9929594919964251, 0.9926370108372341, 0.9925054702381426, 0.9925354869557282, 0.9927333494118622, 0.9931472126775782, 0.9939355230653127, 0.9966752058021856, 1.0, 1.0, 1.0, 1.0, 1.0, 1.0, 1.0, 1.0, 1.0, 1.0, 1.0, 1.0, 1.0, 1.0, 1.0, 1.0, 1.0, 1.0, 1.0]\n",
      "475.062124482\n"
     ]
    }
   ],
   "source": [
    "flux_fit_result = flux_fit(0.0775,0.1,124.51,time_extracted)\n",
    "print(flux_fit_result)\n",
    "chi_squared_result = chi_squared(0.0775,0.1,124.51,time_extracted,normalized_flux,normalized_flux_err)\n",
    "print(chi_squared_result)"
   ]
  },
  {
   "cell_type": "markdown",
   "metadata": {},
   "source": [
    "# Problem 2"
   ]
  },
  {
   "cell_type": "code",
   "execution_count": 11,
   "metadata": {},
   "outputs": [
    {
     "data": {
      "image/png": "[encoded data removed]",
      "text/plain": [
       "<matplotlib.figure.Figure at 0x11307f668>"
      ]
     },
     "metadata": {},
     "output_type": "display_data"
    }
   ],
   "source": [
    "#Plot the fit of the flux that we got from Problem 1\n",
    "\n",
    "plt.plot(time_extracted,flux_fit_result)\n",
    "plt.show()"
   ]
  },
  {
   "cell_type": "markdown",
   "metadata": {},
   "source": [
    "I think that this is a good fit because it shows the decrease in flux that occurs during the eclipse and then shows that when the eclipse is not happening, the flux stays constant."
   ]
  },
  {
   "cell_type": "code",
   "execution_count": 12,
   "metadata": {},
   "outputs": [
    {
     "name": "stdout",
     "output_type": "stream",
     "text": [
      "46\n"
     ]
    }
   ],
   "source": [
    "#Find the degrees of freedom\n",
    "\n",
    "def deg_freedom(data,m):\n",
    "    n = len(data)\n",
    "    v = n - m\n",
    "    return v\n",
    "\n",
    "v = deg_freedom(time_extracted,3)\n",
    "print(v)"
   ]
  },
  {
   "cell_type": "code",
   "execution_count": 28,
   "metadata": {},
   "outputs": [
    {
     "name": "stdout",
     "output_type": "stream",
     "text": [
      "1.0\n"
     ]
    }
   ],
   "source": [
    "#Find the probability of getting this chi squared value\n",
    "\n",
    "p = (scipy.special.gammainc(v/2,chi_squared_result/2))\n",
    "print(p)"
   ]
  },
  {
   "cell_type": "markdown",
   "metadata": {},
   "source": [
    "This is a good fit, as the p-value is 1.0, meaning that there is an 100% chance of getting the chi squared value that was calculated."
   ]
  },
  {
   "cell_type": "markdown",
   "metadata": {},
   "source": [
    "# Problem 3"
   ]
  },
  {
   "cell_type": "code",
   "execution_count": 14,
   "metadata": {},
   "outputs": [
    {
     "name": "stdout",
     "output_type": "stream",
     "text": [
      "[[0.08, 5243.0716203067122], [0.081, 5035.6616524797191], [0.082, 4892.471570673566], [0.083, 4638.9948063456104], [0.084, 4277.4651974538074], [0.085, 3854.3342656519517], [0.08600000000000001, 3403.2037520121507], [0.08700000000000001, 2950.4307359935642], [0.08800000000000001, 2516.5687898265292], [0.08900000000000001, 2116.6356278489047], [0.09000000000000001, 1719.359973749157], [0.09100000000000001, 1334.8564519280562], [0.09200000000000001, 989.37909361830157], [0.09300000000000001, 699.8735000156596], [0.09400000000000001, 477.00512322418012], [0.09500000000000001, 326.23608007056424], [0.09600000000000002, 251.18135591221773], [0.09700000000000002, 236.83630144852697], [0.09800000000000002, 272.45252179316981], [0.09900000000000002, 353.69642479349289], [0.10000000000000002, 475.06212448162466], [0.10100000000000002, 627.32305869526544], [0.10200000000000002, 783.28954745445435], [0.10300000000000002, 936.40475590633355], [0.10400000000000002, 1071.0451347305225], [0.10500000000000002, 1174.0089360545323], [0.10600000000000002, 1280.9903802078388], [0.10700000000000003, 1402.9925039377006], [0.10800000000000003, 1546.4453584112837], [0.10900000000000003, 1716.0693842711767], [0.11000000000000003, 1917.2919035233092], [0.11100000000000003, 2155.3319147825705], [0.11200000000000003, 2433.8291495729814], [0.11300000000000003, 2754.3077012694325], [0.11400000000000003, 3115.7161860548831], [0.11500000000000003, 3514.0930188121133], [0.11600000000000003, 3941.8762503290327], [0.11700000000000003, 4385.9730516736499], [0.11800000000000004, 4815.432690982253], [0.11900000000000004, 5227.240844804558], [0.12000000000000004, 5646.3763867360185], [0.12100000000000004, 6075.2369981609609], [0.12200000000000004, 6514.0093275663294], [0.12300000000000004, 6960.848659823484], [0.12400000000000004, 7411.9299021966171], [0.12500000000000003, 7859.4667210300277], [0.12600000000000003, 8285.5765380509565], [0.12700000000000003, 8662.5959599466496], [0.12800000000000003, 9033.5616281111434], [0.12900000000000003, 9411.2938183301976]]\n"
     ]
    }
   ],
   "source": [
    "#Varying tao parameter\n",
    "\n",
    "tao = 0.08\n",
    "chi_squared_results = []\n",
    "while tao <= 0.13:\n",
    "    chi_squared_result_new = chi_squared(0.0775,tao,124.51,time_extracted,normalized_flux,normalized_flux_err)\n",
    "    chi_squared_results.append([tao,chi_squared_result_new])\n",
    "    tao = tao + 0.001\n",
    "    \n",
    "print(chi_squared_results)"
   ]
  },
  {
   "cell_type": "markdown",
   "metadata": {
    "collapsed": true
   },
   "source": [
    "From the results above, we can see that the minimum chi squared value is 236.83, which is the result when tao is about 0.097."
   ]
  },
  {
   "cell_type": "code",
   "execution_count": 23,
   "metadata": {},
   "outputs": [
    {
     "data": {
      "image/png": "[encoded data removed]",
      "text/plain": [
       "<matplotlib.figure.Figure at 0x2064869e8>"
      ]
     },
     "metadata": {},
     "output_type": "display_data"
    }
   ],
   "source": [
    "#Flux fit for minimum chi squared value parameters\n",
    "\n",
    "best_flux_fit_result = flux_fit(0.0775,0.097,124.51,time_extracted)\n",
    "plt.plot(best_flux_fit_result)\n",
    "plt.show()"
   ]
  },
  {
   "cell_type": "code",
   "execution_count": 29,
   "metadata": {},
   "outputs": [
    {
     "name": "stdout",
     "output_type": "stream",
     "text": [
      "1.0\n"
     ]
    }
   ],
   "source": [
    "#Find p value for minimum chi squared value parameters\n",
    "\n",
    "p = (scipy.special.gammainc(v/2,236.83/2))\n",
    "print(p)"
   ]
  },
  {
   "cell_type": "markdown",
   "metadata": {},
   "source": [
    "# Problem 4"
   ]
  },
  {
   "cell_type": "code",
   "execution_count": 21,
   "metadata": {},
   "outputs": [
    {
     "name": "stdout",
     "output_type": "stream",
     "text": [
      "1171.26928452\n",
      "0.09999999999999999 0.07999999999999999 124.49999999999997\n"
     ]
    }
   ],
   "source": [
    "tao = 0.09\n",
    "p = 0.06\n",
    "t0 = 124\n",
    "chi_squared_results_w_parameters = []\n",
    "chi_squared_results_only = []\n",
    "while tao <= 0.11:\n",
    "    while p <= 0.08:\n",
    "        while t0 <= 125:\n",
    "            chi_squared_result_new = chi_squared(p,tao,t0,time_extracted,normalized_flux,normalized_flux_err)\n",
    "            chi_squared_results_w_parameters.append([tao,p,t0,chi_squared_result_new])\n",
    "            chi_squared_results_only.append(chi_squared_result_new)\n",
    "            t0 = t0 + 0.1\n",
    "        t0 = 124\n",
    "        p = p + 0.01\n",
    "    p = 0.06\n",
    "    tao = tao + 0.01\n",
    "\n",
    "min_chi = math.inf\n",
    "for chi in chi_squared_results_only:\n",
    "    if (chi < min_chi):\n",
    "        min_chi = chi\n",
    "print(min_chi)\n",
    "\n",
    "best_tao = 0\n",
    "best_p = 0\n",
    "best_t0 = 0\n",
    "for results in chi_squared_results_w_parameters:\n",
    "    if (results[3] == min_chi):\n",
    "        best_tao = results[0]\n",
    "        best_p = results[1]\n",
    "        best_t0 = results[2]\n",
    "print(best_tao,best_p,best_t0)\n",
    "         \n",
    "        "
   ]
  },
  {
   "cell_type": "markdown",
   "metadata": {
    "collapsed": true
   },
   "source": [
    "The best fit parameters are when tao = 0.1, p = 0.08, and t0 = 124.5. The uncertainty for tao is 0.01, the uncertainty for p is 0.001, and the uncertainty for t0 is 0.01. These uncertainties are based on the imprecision that comes from addition on Python."
   ]
  }
 ],
 "metadata": {
  "kernelspec": {
   "display_name": "Python 3",
   "language": "python",
   "name": "python3"
  },
  "language_info": {
   "codemirror_mode": {
    "name": "ipython",
    "version": 3
   },
   "file_extension": ".py",
   "mimetype": "text/x-python",
   "name": "python",
   "nbconvert_exporter": "python",
   "pygments_lexer": "ipython3",
   "version": "3.6.1"
  }
 },
 "nbformat": 4,
 "nbformat_minor": 2
}
